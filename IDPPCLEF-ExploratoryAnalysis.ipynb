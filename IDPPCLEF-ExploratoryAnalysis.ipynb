{
 "cells": [
  {
   "cell_type": "markdown",
   "metadata": {},
   "source": [
    "# Análisis exploratorio de los datos de IDPPCLEF\n"
   ]
  },
  {
   "cell_type": "code",
   "execution_count": null,
   "metadata": {},
   "outputs": [],
   "source": [
    "import pandas as pd\n",
    "import numpy as np\n",
    "import os\n",
    "import seaborn as sns\n",
    "pd.options.display.float_format = '{:.2f}'.format\n",
    "import warnings\n",
    "warnings.filterwarnings('ignore')\n",
    "import matplotlib.pyplot as plt\n",
    "%matplotlib inline"
   ]
  },
  {
   "cell_type": "code",
   "execution_count": null,
   "metadata": {},
   "outputs": [],
   "source": [
    "path = r'DatosIDPPCLEF\\Tarea1y2\\datasetA_train'\n",
    "contenido = os.listdir(path)"
   ]
  },
  {
   "cell_type": "code",
   "execution_count": null,
   "metadata": {},
   "outputs": [],
   "source": [
    "filename = path+'/'+str(contenido[0])\n",
    "edss = pd.read_csv(filename, header=0)\n",
    "edss"
   ]
  },
  {
   "cell_type": "markdown",
   "metadata": {},
   "source": [
    "+ patient_id:\n",
    "\tCódigo hash que identifica de forma unívoca a un paciente.\n",
    "\n",
    "+ edss_as_evaluated_by_clinician:\n",
    "\tLa Escala Expandida del Estado de Discapacidad (EDSS) es un método para cuantificar la discapacidad en la esclerosis múltiple y controlar los cambios en el nivel de discapacidad a lo largo del tiempo. Se utiliza ampliamente en ensayos clínicos y en la evaluación de personas con EM.\n",
    "\n",
    "\tEsta variable representa la EDSS medida e informada por el clínico. Valores en el intervalo [0, 10], con incrementos de 0,5 unidades que representan niveles más altos de discapacidad, o ausente.\n",
    "\n",
    "+ centre\n",
    "\tEsta variable representa el centro médico del que procede el paciente.\n",
    "\n",
    "+ delta_edss_time0:\n",
    "\tFecha en la que el clínico ha evaluado la EDSS, expresada en días como delta relativo con respecto al Tiempo 0 (edss_date - time0)."
   ]
  },
  {
   "cell_type": "code",
   "execution_count": null,
   "metadata": {},
   "outputs": [],
   "source": [
    "filename = path+'/'+str(contenido[1])\n",
    "evokedpotentials = pd.read_csv(filename, header=0)\n",
    "evokedpotentials"
   ]
  },
  {
   "cell_type": "markdown",
   "metadata": {},
   "source": [
    "+ patient_id: Código hash que identifica de forma unívoca a un paciente.\n",
    "\n",
    "+ altered_potential:\n",
    "\tTipo de potencial evocado analizado. Valores posibles: {Auditivo, Motor, Somatosensorial, Visual}.\n",
    "\n",
    "+ potential_value:\n",
    "\tVariable booleana que indica si la prueba de potenciales evocados ha observado una alteración (Verdadero) o no (Falso).\n",
    "\n",
    "+ location:\n",
    "\tUbicación de la parte del cuerpo implicada en el examen. Valores posibles: {izquierda, inferior izquierda, superior izquierda, derecha, inferior derecha, superior derecha}.\n",
    "\n",
    "+ centre\n",
    "\tEsta variable representa el centro médico del que procede el paciente.\n",
    "\n",
    "+ delta_evoked_potential_time0:\n",
    "\tFecha en la que se ha comprobado el potencial evocado, expresada en días como delta relativo con respecto al tiempo 0 (evoked_potential_date - time0)."
   ]
  },
  {
   "cell_type": "code",
   "execution_count": null,
   "metadata": {},
   "outputs": [],
   "source": [
    "filename = path+'/'+str(contenido[2])\n",
    "mri = pd.read_csv(filename, header=0)\n",
    "mri"
   ]
  },
  {
   "cell_type": "markdown",
   "metadata": {},
   "source": [
    "+ patient_id:\n",
    "\tCódigo hash que identifica de forma unívoca a un paciente.\n",
    "\n",
    "+ mri_area_label:\n",
    "\tLa zona en la que se ha realizado la IRM. Valores posibles: {Tallo cerebral, Médula espinal cervical, Médula espinal, Médula espinal torácica}.\n",
    "\n",
    "+ lesions_T1:\n",
    "\tVariable booleana que indica si la RM observa algunas lesiones en T1 (Verdadero) o no (Falso).\n",
    "\n",
    "+ lesions_T1_gadolinium:\n",
    "\tVariable booleana que indica si hay algunas lesiones con realce de Gadolinio (Verdadero) o no (Falso).\n",
    "\n",
    "+ number_of_lesions_T1_gadolinium:\n",
    "\tNúmero de lesiones con realce de Gadolinio.\n",
    "\n",
    "+ new_or_enlarged_lesions_T2:\n",
    "\tVariable booleana que indica si hay lesiones nuevas o agrandadas en T2 desde la última IRM (Verdadero) o no (Falso).\n",
    "\n",
    "+ number_of_new_or_enlarged_lesions_T2:\n",
    "\tNúmero de lesiones nuevas o agrandadas en T2 desde la última RM.\n",
    "\n",
    "+ lesions_T2:\n",
    "\tVariable booleana que indica si la IRM observa algunas lesiones en T2 (Verdadero) o no (Falso).\n",
    "\n",
    "+ number_of_total_lesions_T2:\n",
    "\tEl número de lesiones totales en T2. Cuando no está ausente, los valores posibles son: {0, 1-2, >=3, >=9}.\n",
    "\n",
    "+ centre\n",
    "\tEsta variable representa el centro médico del que procede el paciente.\n",
    "\n",
    "+ delta_mri_time0:\n",
    "\tLa fecha en la que se ha realizado la IRM, expresada en días como delta relativo con respecto al tiempo 0 (mri_date - time0)."
   ]
  },
  {
   "cell_type": "code",
   "execution_count": null,
   "metadata": {},
   "outputs": [],
   "source": [
    "filename = path+'/'+str(contenido[3])\n",
    "mstype = pd.read_csv(filename, header=0)\n",
    "mstype"
   ]
  },
  {
   "cell_type": "markdown",
   "metadata": {},
   "source": [
    "+ patient_id:\n",
    "\tCódigo hash que identifica de forma unívoca a un paciente.\n",
    "\n",
    "+ multiple_sclerosis_type:\n",
    "\tTipo de EM observado durante una evaluación clínica. Valores posibles: {CIS, PP, PR, RR, SP}.\n",
    "\n",
    "+ centre\n",
    "\tEsta variable representa el centro médico del que procede el paciente.\n",
    "\n",
    "+ delta_observation_time0:\n",
    "\tFecha en la que se ha observado el tipo de EM, expresada en días como delta relativo con respecto a la hora 0 (ms_type_date - time0)."
   ]
  },
  {
   "cell_type": "code",
   "execution_count": null,
   "metadata": {},
   "outputs": [],
   "source": [
    "filename = path+'/'+str(contenido[4])\n",
    "outcomes = pd.read_csv(filename, header=0)\n",
    "outcomes"
   ]
  },
  {
   "cell_type": "markdown",
   "metadata": {},
   "source": [
    "Las columnas están separadas por un espacio en blanco;\n",
    "+ La primera columna es patient ID, una versión codificada de la identificación del paciente original (debe considerarse solo como una cadena);\n",
    "+ La segunda columna es el empeoramiento-ocurrencia. Es una variable booleana con 0 que significa \"no ocurrió\" y 1 que significa \"ocurrió\";\n",
    "+ La tercera columna es el tiempo de ocurrencia. Es un número de punto flotante en el rango [0, 15]."
   ]
  },
  {
   "cell_type": "code",
   "execution_count": null,
   "metadata": {},
   "outputs": [],
   "source": [
    "filename = path+'/'+str(contenido[5])\n",
    "relapses = pd.read_csv(filename, header=0)\n",
    "relapses"
   ]
  },
  {
   "cell_type": "markdown",
   "metadata": {},
   "source": [
    "+ patient_id:\n",
    "\tCódigo hash que identifica de forma unívoca a un paciente.\n",
    "\n",
    "+ centre\n",
    "\tEsta variable representa el centro médico del que procede el paciente.\n",
    "\n",
    "+ delta_relapse_time0:\n",
    "\tLa fecha en la que comenzó la recaída, expresada en días como delta relativo con respecto al tiempo 0 (relapse_start_date - time0)."
   ]
  },
  {
   "cell_type": "code",
   "execution_count": null,
   "metadata": {},
   "outputs": [],
   "source": [
    "filename = path+'/'+str(contenido[6])\n",
    "staticvars = pd.read_csv(filename, header=0)\n",
    "staticvars"
   ]
  },
  {
   "cell_type": "markdown",
   "metadata": {},
   "source": [
    "+ patient_id:\n",
    "\tCódigo hash que identifica de forma unívoca a un paciente.\n",
    "\n",
    "+ sex:\n",
    "\tConjunto de propiedades o cualidades físicas por las que el hombre se distingue de la mujer; diferencia física entre el hombre y la mujer; peculiaridad distintiva del hombre o de la mujer. [Fuente de la definición: NCI]. Valores posibles: {femenino, masculino}.\n",
    "\n",
    "+ residence_classification:\n",
    "\tClasificación de la residencia. Cuando no está ausente, los valores posibles son: {Ciudades, Zona rural, Pueblos}.\n",
    "\n",
    "+ ethnicity:\n",
    "\tOrigen étnico del paciente. Cuando no está ausente, los valores posibles son: {Negro Africano, Caucásico, Hispano}.\n",
    "\n",
    "+ ms_in_pediatric_age:\n",
    "\tVariable booleana que indica si el paciente contrajo EM en edad pediátrica (Verdadero) o no (Falso).\n",
    "\n",
    "+ age_at_onset:\n",
    "\tEdad del paciente al inicio de la enfermedad. Expresada en años.\n",
    "\n",
    "+ diagnostic_delay:\n",
    "\tDiferencia (en días) entre la fecha del diagnóstico y la Hora 0. Cuando la fecha del diagnóstico > Hora 0, diagnostic_delay se establece en Nan.\n",
    "\n",
    "+ spinal_cord_symptom:\n",
    "\tVariable booleana que indica si el paciente tenía síntomas medulares (Verdadero) o no (Falso) al inicio.\n",
    "\n",
    "+ brainstem_symptom:\n",
    "\tVariable booleana que indica si el paciente tenía síntomas en el tronco encefálico (Verdadero) o no (Falso) al inicio.\n",
    "\n",
    "+ eye_symptom:\n",
    "\tVariable booleana que indica si el paciente tenía síntomas oculares (Verdadero) o no (Falso) al inicio.\n",
    "\n",
    "+ supratentorial_symptom:\n",
    "\tVariable booleana que indica si el paciente tenía síntomas supratentoriales (Verdadero) o no (Falso) al inicio.\n",
    "\n",
    "+ other_symptoms:\n",
    "\tEspecifica qué otros síntomas (si los hay) tenía el paciente al inicio. Cuando no es False, los valores posibles son: {epilepsia, cefalea, psíquico, RM+, sensorial}.\n",
    "\n",
    "+ centre\n",
    "\tEsta variable representa el centro médico del que procede el paciente.\n",
    "\n",
    "+ time_since_onset:\n",
    "\tLa fecha de inicio de la EM en el paciente, expresada en días como delta relativo con respecto al Tiempo 0 (tiempo0 - fecha_inicio).\n"
   ]
  },
  {
   "cell_type": "code",
   "execution_count": null,
   "metadata": {},
   "outputs": [],
   "source": [
    "print(len(outcomes[outcomes['outcome_occurred']==1]), 'pacientes tienen empeoramiento de ocurrencia')"
   ]
  },
  {
   "cell_type": "code",
   "execution_count": null,
   "metadata": {},
   "outputs": [],
   "source": [
    "for i in edss.index:\n",
    "    edss['delta_edss_time0'][i]=-edss['delta_edss_time0'][i]"
   ]
  },
  {
   "cell_type": "code",
   "execution_count": null,
   "metadata": {},
   "outputs": [],
   "source": [
    "paciente='1'\n",
    "patient=[]\n",
    "potencial_value=[]\n",
    "for i in evokedpotentials.index:\n",
    "    if paciente!=evokedpotentials['patient_id'][i]:\n",
    "        paciente=evokedpotentials['patient_id'][i]\n",
    "        grupoPatient=evokedpotentials[evokedpotentials['patient_id']==paciente]\n",
    "        grupoPatient=grupoPatient.reset_index(drop=True)\n",
    "        patient.append(paciente)\n",
    "        potencial_value.append(len(grupoPatient[grupoPatient['potential_value']==True]))\n",
    "\n",
    "\n",
    "savePotecialValue=[]\n",
    "contador=0\n",
    "for i in staticvars.index:\n",
    "\n",
    "    if staticvars['patient_id'][i] not in patient:\n",
    "        savePotecialValue.append(0)\n",
    "    else:\n",
    "        savePotecialValue.append(potencial_value[contador])\n",
    "        contador+=1\n",
    "\n",
    "\n"
   ]
  },
  {
   "cell_type": "code",
   "execution_count": null,
   "metadata": {},
   "outputs": [],
   "source": [
    "worsening=[]\n",
    "numberEdss=[]\n",
    "numberEdssYear=[]\n",
    "patient=-1\n",
    "allPatient=[]\n",
    "minDay=[]\n",
    "saveDay=0\n",
    "\n",
    "for i in edss.index:\n",
    "    if patient!=edss['patient_id'][i]:\n",
    "        if edss['patient_id'][i] not in allPatient:\n",
    "            allPatient.append(edss['patient_id'][i])\n",
    "            numberEdss.append(len(edss[edss['patient_id']==edss['patient_id'][i]]))\n",
    "            saveDay=edss['delta_edss_time0'][i]\n",
    "        #if edss['edss_as_evaluated_by_clinician'][i]>=2:\n",
    "        patient=edss['patient_id'][i]\n",
    "        if len(edss[edss['patient_id']==edss['patient_id'][i]])>2:\n",
    "            groupPatient=edss[edss['patient_id']==edss['patient_id'][i]]\n",
    "            if len(groupPatient[groupPatient['edss_as_evaluated_by_clinician']>=3])>1:\n",
    "                groupPatient=groupPatient.sort_values('delta_edss_time0',ascending=True)\n",
    "                groupPatient=groupPatient.reset_index(drop=True)\n",
    "                #print(groupPatient)\n",
    "                count=1\n",
    "                auxDay=0\n",
    "                for l in range(len(groupPatient)-1):\n",
    "                    for j in range(l+1,len(groupPatient)):\n",
    "                        if (groupPatient['delta_edss_time0'][j]-groupPatient['delta_edss_time0'][l])<=365 and groupPatient['edss_as_evaluated_by_clinician'][l]>=3 and groupPatient['edss_as_evaluated_by_clinician'][j]>=3:\n",
    "                            auxDay=groupPatient['delta_edss_time0'][j]-groupPatient['delta_edss_time0'][l]\n",
    "                            #print(auxDay)\n",
    "                            if auxDay<saveDay:\n",
    "                                saveDay=auxDay\n",
    "                            count+=1\n",
    "                            if edss['patient_id'][i] not in worsening:\n",
    "                                worsening.append(edss['patient_id'][i])\n",
    "\n",
    "                if count>1:\n",
    "                    numberEdssYear.append(count)\n",
    "        minDay.append(saveDay)\n",
    "\n",
    "\n"
   ]
  },
  {
   "cell_type": "code",
   "execution_count": null,
   "metadata": {},
   "outputs": [],
   "source": [
    "saveWorsening=[]\n",
    "saveNumberEdss=[]\n",
    "saveNumberEdssYear=[]\n",
    "saveMinDay=[]\n",
    "contador=0\n",
    "\n",
    "for i in staticvars.index:\n",
    "    if staticvars['patient_id'][i] not in worsening:\n",
    "        saveWorsening.append(False)\n",
    "        saveNumberEdssYear.append(0)\n",
    "    else:\n",
    "        saveWorsening.append(True)\n",
    "        saveNumberEdssYear.append(numberEdssYear[contador])\n",
    "        contador+=1\n",
    "contador=0\n",
    "for i in staticvars.index:\n",
    "    if len(edss[edss['patient_id']==staticvars['patient_id'][i]])>0:\n",
    "        saveNumberEdss.append(numberEdss[contador])\n",
    "        contador+=1\n",
    "    else:\n",
    "        saveNumberEdss.append(0)\n",
    "\n",
    "contador=0\n",
    "for i in staticvars.index:\n",
    "    if len(edss[edss['patient_id']==staticvars['patient_id'][i]])>0:\n",
    "        saveMinDay.append(minDay[contador])\n",
    "        contador+=1\n",
    "    else:\n",
    "        saveMinDay.append(580)\n",
    "\n",
    "\n"
   ]
  },
  {
   "cell_type": "code",
   "execution_count": null,
   "metadata": {},
   "outputs": [],
   "source": [
    "paciente=1\n",
    "patientRelapses=[]\n",
    "numberRelapses=[]\n",
    "for i in relapses.index:\n",
    "    if paciente!= relapses['patient_id'][i]:\n",
    "        paciente=relapses['patient_id'][i]\n",
    "        numberRelapses.append(len(relapses[relapses['patient_id']==paciente]))\n",
    "        patientRelapses.append(paciente)\n",
    "saveNumberRelapses=[]\n",
    "contador=0\n",
    "for i in staticvars.index:\n",
    "    if staticvars['patient_id'][i]not in patientRelapses:\n",
    "        saveNumberRelapses.append(0)\n",
    "    else:\n",
    "        saveNumberRelapses.append(numberRelapses[contador])\n",
    "        contador+=1"
   ]
  },
  {
   "cell_type": "code",
   "execution_count": null,
   "metadata": {},
   "outputs": [],
   "source": [
    "sex=[]\n",
    "for i in staticvars.index:\n",
    "    if staticvars['sex'][i]=='female':\n",
    "        sex.append(0)\n",
    "    else:\n",
    "        sex.append(1)\n"
   ]
  },
  {
   "cell_type": "code",
   "execution_count": null,
   "metadata": {},
   "outputs": [],
   "source": [
    "prueba=pd.DataFrame()\n",
    "prueba['outcome_occurred']=outcomes['outcome_occurred']\n",
    "prueba['outcome_time']=outcomes['outcome_time']\n",
    "prueba['sex']=sex\n",
    "prueba['age_at_onset']=staticvars['age_at_onset']\n",
    "prueba['time_since_onset']=staticvars['time_since_onset']\n",
    "prueba['numberEdss']=saveNumberEdss\n",
    "prueba['numberEdssYear']=saveNumberEdssYear\n",
    "prueba['MinDay']=saveMinDay\n",
    "prueba['potencial_value']=savePotecialValue\n",
    "prueba['numberRelapses']=saveNumberRelapses\n",
    "prueba['Worsening']=saveWorsening"
   ]
  },
  {
   "cell_type": "code",
   "execution_count": null,
   "metadata": {},
   "outputs": [],
   "source": [
    "prueba.corr().head(13)"
   ]
  },
  {
   "cell_type": "code",
   "execution_count": null,
   "metadata": {},
   "outputs": [],
   "source": [
    "import seaborn as sns\n",
    "\n",
    "sns.heatmap(prueba.corr(), annot=True)\n",
    "plt.show()"
   ]
  },
  {
   "cell_type": "code",
   "execution_count": null,
   "metadata": {},
   "outputs": [],
   "source": [
    "from pandas.plotting import scatter_matrix\n",
    "\n",
    "scatter_matrix(prueba.astype(float), alpha=0.2, figsize=(21, 21), diagonal='kde')\n",
    "plt.show()"
   ]
  }
 ],
 "metadata": {
  "kernelspec": {
   "display_name": "Python 3 (ipykernel)",
   "language": "python",
   "name": "python3"
  },
  "language_info": {
   "codemirror_mode": {
    "name": "ipython",
    "version": 3
   },
   "file_extension": ".py",
   "mimetype": "text/x-python",
   "name": "python",
   "nbconvert_exporter": "python",
   "pygments_lexer": "ipython3",
   "version": "3.9.16"
  }
 },
 "nbformat": 4,
 "nbformat_minor": 1
}
